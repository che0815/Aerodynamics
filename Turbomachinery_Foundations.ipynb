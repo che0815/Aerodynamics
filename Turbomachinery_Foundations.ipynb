{
 "cells": [
  {
   "cell_type": "markdown",
   "metadata": {},
   "source": [
    "# Turbomachinery Foundations\n",
    "## Mach Number"
   ]
  },
  {
   "cell_type": "markdown",
   "metadata": {},
   "source": [
    "The most used simimilarity in turbomachinery design is the *Mach Number*:"
   ]
  },
  {
   "cell_type": "markdown",
   "metadata": {},
   "source": [
    "$M = \\frac{v}{a}$"
   ]
  },
  {
   "cell_type": "markdown",
   "metadata": {},
   "source": [
    "The *Mach Number* is the ratio of a characteristic velocity ( $v$ ) and the *speed of sound* ( $a$ )."
   ]
  },
  {
   "cell_type": "markdown",
   "metadata": {},
   "source": [
    "The representative velocity has to be carefully chosen in order to be meaningful for the task at hand. The *speed of sound* is defined as:"
   ]
  },
  {
   "cell_type": "markdown",
   "metadata": {},
   "source": [
    "$a = \\sqrt{\\gamma R_\\mathrm{s} T_\\mathrm{s}}$"
   ]
  },
  {
   "cell_type": "markdown",
   "metadata": {},
   "source": [
    "### Isentropic Expansion Factor $\\gamma$\n",
    "$\\gamma$ is the ratio of heat capacities $\\frac{C_\\mathrm{P}}{C_\\mathrm{V}} = \\frac{c_\\mathrm{P}}{c_\\mathrm{V}}$. The heat capacity ratio may also be denoted as $\\kappa$.\n",
    "\n",
    "### Specific Gas Constant $R_\\mathrm{s}$\n",
    "$R_\\mathrm{s}$ is the **s**pecific gas constant. It can be calculated by: $R_\\mathrm{s}=\\frac{R}{M}$ or $R_\\mathrm{s}=c_\\mathrm{P}-c_\\mathrm{V}$.\n",
    "\n",
    "### Static Temperature $T_\\mathrm{s}$\n",
    "In order to calculate the correct speed of sound it is necessary to use the **s**tatic temperature $T_\\mathrm{s}$."
   ]
  },
  {
   "cell_type": "markdown",
   "metadata": {},
   "source": [
    "## Mach Number Similarity\n",
    "\n",
    "The underlying assumption/hypothesis to use the Mach Number similarity in turbomachinery design is: For a given blade-profile and identical in- and outflow Mach Number triangles the aerodynamics are identical as well. The Mach Number triangle can be derived from the velocity triangle.\n",
    "\n",
    "For practical reasons rotor speed ( $N$ ) and inlet mass flow ( $\\dot{m}$ ) are used to define a triangle. Observe, that this definition of a triangle by axial and circumferential speed (or Machnumber) is not sufficient.\n",
    "\n",
    "|<img src=\"flow_triangle.png\" style=\"width: 100px\">|<img src=\"flow_triangle2.png\" style=\"width: 100px\">|<img src=\"flow_triangle3.png\" style=\"width: 100px\">|\n",
    "\n",
    "This means for different inflow angles ( $\\alpha$ ) the same circumferential and axial velocity will result in different velocity tri-angles.\n",
    "\n",
    "In the following Mach Number similarity is assumed or required so that:\n",
    "\n",
    "$M_1 = M_2 = \\frac{v_\\mathrm{characteristic}}{a}$\n",
    "\n",
    "is sattisfied"
   ]
  },
  {
   "cell_type": "markdown",
   "metadata": {},
   "source": [
    "### Reduced Rotor Speed\n",
    "\n",
    "The characteristic speed in circuferential direction ( $v_\\mathrm{circ}$ ) is connected to rotor speed ( $N$ ) at a given characteristic radius ( $r$ ):\n",
    "\n",
    "$v_\\mathrm{circ} = \\omega r = 2\\pi f\\, r = 2\\pi \\frac{N}{60\\frac{s}{min}} r$"
   ]
  },
  {
   "cell_type": "markdown",
   "metadata": {},
   "source": [
    "Requiring $M_1 = M_2$ all constants are canceled out, which gives:\n",
    "\n",
    "$\\frac{N_1 \\, r_1}{\\sqrt{\\gamma_1 R_\\mathrm{s,1} T_\\mathrm{s,1}}} = \\frac{N_2 \\, r_2}{\\sqrt{\\gamma_2 R_\\mathrm{s,2} T_\\mathrm{s,2}}}$\n",
    "\n",
    "Neglecting the variations of $R_\\mathrm{s}$ and $\\gamma$ this equation is further simplified into the common form:\n",
    "\n",
    "$N_2 = N_1 \\sqrt{\\frac{T_\\mathrm{2,s}}{T_\\mathrm{1,s}}}$\n",
    "\n",
    "Since **s**tatic temperatures are harder to measure the equation is modified using an isentropic process, so that the **t**otal temperature is used.\n",
    "\n",
    "$T_\\mathrm{s} = \\frac{T_\\mathrm{t}}{1+\\frac{\\gamma -1}{2}M^2}$\n",
    "\n",
    "$N_2 = N_1 \\sqrt{\\frac{T_\\mathrm{2,t}}{T_\\mathrm{1,t}}}\\sqrt{\\frac{1+\\frac{\\gamma_1 -1}{2}M_1^2}{1+\\frac{\\gamma_2 -1}{2}M_2^2}}$\n",
    "\n",
    "Since $\\gamma$ was assumend to be constant and the Mach Numbers are required to be constant the equation is again simplified into the form from above but now using **t**otal temperatures.\n",
    "\n",
    "$N_2 = N_1 \\sqrt{\\frac{T_\\mathrm{2,t}}{T_\\mathrm{1,t}}}$"
   ]
  },
  {
   "cell_type": "markdown",
   "metadata": {},
   "source": [
    "### Reduced Mass Flow\n",
    "\n",
    "The characteristic speed in axial direction ( $v_\\mathrm{ax}$ ) is connected to the mass flow ( $\\dot{m}$ ) :\n",
    "\n",
    "$v_\\mathrm{ax} = \\frac{\\dot{m}}{\\rho A}$\n",
    "\n",
    "$\\rho$ is the density of the air/gas/fluid entering into the turbomachine, and $A$ is the inlet area.\n",
    "\n",
    "Similar to the reduces rotor speed it is convenient to use expressions which are easily measured in the field (e.i. pressure and temperature).\n",
    "\n",
    "Assuming ideal gas: $\\rho = \\frac{p_\\mathrm{s}}{R T_\\mathrm{s}}$\n",
    "\n",
    "Requiring $M_1 = M_2$ gives:\n",
    "\n",
    "$\\dot{m}_1\\sqrt{\\frac{RT_\\mathrm{s,1}}{\\gamma_1}}\\frac{1}{p_\\mathrm{s,1}A_1} = \\dot{m}_2\\sqrt{\\frac{RT_\\mathrm{s,2}}{\\gamma_2}}\\frac{1}{p_\\mathrm{s,2}A_2}$"
   ]
  },
  {
   "cell_type": "markdown",
   "metadata": {},
   "source": [
    "$\\gamma$ and $R$ are again assumed to be constant. This allows to solve for $\\dot{m}_2$:\n",
    "\n",
    "$\\dot{m}_2 = \\dot{m}_1\\frac{A_2}{A_1}\\frac{p_\\mathrm{s,2}}{p_\\mathrm{s,1}}\\sqrt{\\frac{T_\\mathrm{s,1}}{T_\\mathrm{s,2}}}$\n",
    "\n",
    "The ratio of the inflow areas can also be shown as the ratio of the squared radii:\n",
    "\n",
    "$\\dot{m}_2 = \\dot{m}_1\\frac{r^2_2}{r^2_1}\\frac{p_\\mathrm{s,2}}{p_\\mathrm{s,1}}\\sqrt{\\frac{T_\\mathrm{s,1}}{T_\\mathrm{s,2}}}$\n",
    "\n",
    "Using an isentropic process ($T_\\mathrm{t}$ to $T_\\mathrm{t}$ as shown above) for the pressure: \n",
    "$p_\\mathrm{s} = \\frac{p_\\mathrm{t}}{\\left(1+\\frac{\\gamma -1}{2}M^2\\right)^{\\frac{\\gamma}{\\gamma-1}}}$\n",
    "\n",
    "Again neglecting change in $\\gamma$ and requiring the equality of the Mach Number results in the recognizable form: \n",
    "\n",
    "$\\dot{m}_2 = \\dot{m}_1\\frac{r^2_2}{r^2_1}\\frac{p_\\mathrm{t,2}}{p_\\mathrm{t,1}}\\sqrt{\\frac{T_\\mathrm{t,1}}{T_\\mathrm{t,2}}}$"
   ]
  }
 ],
 "metadata": {
  "kernelspec": {
   "display_name": "Python 3",
   "language": "python",
   "name": "python3"
  },
  "language_info": {
   "codemirror_mode": {
    "name": "ipython",
    "version": 3
   },
   "file_extension": ".py",
   "mimetype": "text/x-python",
   "name": "python",
   "nbconvert_exporter": "python",
   "pygments_lexer": "ipython3",
   "version": "3.6.5"
  }
 },
 "nbformat": 4,
 "nbformat_minor": 2
}
